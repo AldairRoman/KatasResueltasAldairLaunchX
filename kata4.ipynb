{
 "cells": [
  {
   "cell_type": "markdown",
   "metadata": {},
   "source": [
    "# Ejercicio 1: Transformar cadenas"
   ]
  },
  {
   "cell_type": "code",
   "execution_count": 120,
   "metadata": {},
   "outputs": [],
   "source": [
    "text = \"\"\"Interesting facts about the Moon. The Moon is Earth's only satellite. There are several interesting facts about the Moon and how it affects life here on Earth. \n",
    "On average, the Moon moves 4cm away from the Earth every year. This yearly drift is not significant enough to cause immediate effects on Earth. The highest daylight temperature of the Moon is 127 C.\"\"\""
   ]
  },
  {
   "cell_type": "code",
   "execution_count": 121,
   "metadata": {},
   "outputs": [
    {
     "name": "stdout",
     "output_type": "stream",
     "text": [
      " \n",
      "On average, the Moon moves 4cm away from the Earth every year\n",
      " The highest daylight temperature of the Moon is 127 C\n"
     ]
    }
   ],
   "source": [
    "textoSeparado=text.split('.')\n",
    "palabrasPista=[\"average\",\"temperature\",\"distance\"]\n",
    "for datos in textoSeparado:\n",
    "    for busqueda in palabrasPista:\n",
    "       if busqueda in datos:\n",
    "        print(datos)\n",
    "        break"
   ]
  },
  {
   "cell_type": "code",
   "execution_count": 122,
   "metadata": {},
   "outputs": [
    {
     "name": "stdout",
     "output_type": "stream",
     "text": [
      " \n",
      "On average, the Moon moves 4cm away from the Earth every year\n",
      " The highest daylight temperature of the Moon is 127 Celcius\n"
     ]
    }
   ],
   "source": [
    "for datos in textoSeparado:\n",
    "    for busqueda in palabrasPista:\n",
    "       if busqueda in datos:\n",
    "        print(datos.replace('C','Celcius'))\n",
    "        break"
   ]
  },
  {
   "cell_type": "markdown",
   "metadata": {},
   "source": [
    "# Ejercicio 2:Formateando Cadenas"
   ]
  },
  {
   "cell_type": "code",
   "execution_count": 123,
   "metadata": {},
   "outputs": [],
   "source": [
    "planeta = 'Moon'\n",
    "gravedad  = 0.00162\n",
    "nombre = 'Eart'\n",
    "title = f'info de la gravedad acerca del planeta {nombre}'"
   ]
  },
  {
   "cell_type": "code",
   "execution_count": 124,
   "metadata": {},
   "outputs": [],
   "source": [
    "# Creamos la plantilla\n",
    "info = f\"\"\"{'-----------------------'} \n",
    "Nombre del planeta: {planeta} \n",
    "Gravedad en {nombre}: {gravedad * 1000} m/s2 \n",
    "\"\"\""
   ]
  },
  {
   "cell_type": "code",
   "execution_count": 125,
   "metadata": {},
   "outputs": [
    {
     "name": "stdout",
     "output_type": "stream",
     "text": [
      "\"Info De La Gravedad Acerca Del Planeta Eart----------------------- \n",
      "Nombre del planeta: Moon \n",
      "Gravedad en Eart: 1.6199999999999999 m/s2 \n",
      "\n"
     ]
    }
   ],
   "source": [
    "# Unión de ambas cadenas\n",
    "cadenas=f\"\"\"\"{title.title()}{info}\"\"\"\n",
    "print(cadenas)\n"
   ]
  },
  {
   "cell_type": "code",
   "execution_count": 126,
   "metadata": {},
   "outputs": [
    {
     "name": "stdout",
     "output_type": "stream",
     "text": [
      "----------------------- \n",
      "Nombre del planeta: Moon \n",
      "Gravedad en Eart: 1.6199999999999999 m/s2 \n",
      "\n",
      "\n",
      "    Datos de Gravedad sobre: Ganímedes\n",
      "    -------------------------------------------------------------------------------\n",
      "    Nombre del planeta: Marte \n",
      "    ravedad en Ganímedes: 0.00143 m/s2\n",
      "    \n"
     ]
    }
   ],
   "source": [
    "# Comprueba la plantilla\n",
    "planeta = 'Marte '\n",
    "gravedad  = 0.00143\n",
    "nombre = 'Ganímedes'\n",
    "print(info)\n",
    "nueva_info = \"\"\"\n",
    "    Datos de Gravedad sobre: {nombre}\n",
    "    -------------------------------------------------------------------------------\n",
    "    Nombre del planeta: {planeta}\n",
    "    ravedad en {nombre}: {gravedad} m/s2\n",
    "    \"\"\"\n",
    "print(nueva_info.format(nombre=nombre, planeta=planeta, gravedad=gravedad))\n"
   ]
  },
  {
   "cell_type": "code",
   "execution_count": 127,
   "metadata": {},
   "outputs": [
    {
     "name": "stdout",
     "output_type": "stream",
     "text": [
      "\n",
      "    Datos de Gravedad sobre: Ganímedes\n",
      "    -------------------------------------------------------------------------------\n",
      "    Nombre del planeta: Marte \n",
      "    ravedad en Ganímedes: 1.4300000000000002 m/s2\n",
      "    \n"
     ]
    }
   ],
   "source": [
    "# Pista: print(nueva_plantilla.format(variables))\n",
    "print(nueva_info.format(nombre=nombre, planeta=planeta, gravedad=gravedad*1000))"
   ]
  }
 ],
 "metadata": {
  "interpreter": {
   "hash": "53f962e6d2c2beb506412be408d13b7c0d7876e523c4f070f79efbdb387e6992"
  },
  "kernelspec": {
   "display_name": "Python 3.10.2 64-bit",
   "language": "python",
   "name": "python3"
  },
  "language_info": {
   "codemirror_mode": {
    "name": "ipython",
    "version": 3
   },
   "file_extension": ".py",
   "mimetype": "text/x-python",
   "name": "python",
   "nbconvert_exporter": "python",
   "pygments_lexer": "ipython3",
   "version": "3.10.2"
  },
  "orig_nbformat": 4
 },
 "nbformat": 4,
 "nbformat_minor": 2
}
