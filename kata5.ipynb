{
 "cells": [
  {
   "cell_type": "markdown",
   "metadata": {},
   "source": [
    "# Ejercicio1 - Utilizar operadores aritméticos"
   ]
  },
  {
   "cell_type": "code",
   "execution_count": null,
   "metadata": {},
   "outputs": [],
   "source": [
    "distanciTierra=149597870\n",
    "distanciJupiter=778547200\n",
    "distanciaPlanetaria=distanciJupiter-distanciTierra\n",
    "print('La distancia en km es '+str(distanciaPlanetaria))\n",
    "print('La distancia en millas es '+str(round(distanciaPlanetaria*0.621)))"
   ]
  },
  {
   "cell_type": "markdown",
   "metadata": {},
   "source": [
    "# Ejercicio 2: Convierte cadenas en números y usa valores absolutos"
   ]
  },
  {
   "cell_type": "code",
   "execution_count": null,
   "metadata": {},
   "outputs": [],
   "source": [
    "# Almacenar las entradas del usuario\n",
    "planeta1=input(\"¿Cuál es la distancia del primer planeta?\")\n",
    "planeta2=input(\"¿Cuál es la distancia del segundo planeta?\")\n",
    "distancia=float(planeta2)-float(planeta1)\n",
    "# Realizar el cálculo y determinar el valor absoluto\n",
    "print('La distancia en kilometros es '+str(abs(distancia)))\n",
    "\n",
    "# Convertir de KM a Millas\n",
    "print('La distancia en millas es '+str(abs(distancia*0.621)))"
   ]
  }
 ],
 "metadata": {
  "interpreter": {
   "hash": "53f962e6d2c2beb506412be408d13b7c0d7876e523c4f070f79efbdb387e6992"
  },
  "kernelspec": {
   "display_name": "Python 3.10.2 64-bit",
   "language": "python",
   "name": "python3"
  },
  "language_info": {
   "codemirror_mode": {
    "name": "ipython",
    "version": 3
   },
   "file_extension": ".py",
   "mimetype": "text/x-python",
   "name": "python",
   "nbconvert_exporter": "python",
   "pygments_lexer": "ipython3",
   "version": "3.10.2"
  },
  "orig_nbformat": 4
 },
 "nbformat": 4,
 "nbformat_minor": 2
}
