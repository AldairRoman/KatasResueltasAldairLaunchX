{
 "cells": [
  {
   "cell_type": "markdown",
   "metadata": {},
   "source": [
    "# Ejercicio 1: Trabajar con argumentos en funciones"
   ]
  },
  {
   "cell_type": "code",
   "execution_count": null,
   "metadata": {},
   "outputs": [],
   "source": [
    "# Función para leer 3 tanques de combustible y muestre el promedio\n",
    "def PromedioTanques(tanque1,tanque2,tanque3):\n",
    "    average=(tanque1+tanque2+tanque3)/3\n",
    "    print('El promedio de los tanque es '+str(average))\n",
    "# Llamamos a la función que genera el reporte print(funcion(tanque1, tanque2, tanque3))\n",
    "PromedioTanques(1,2,3)"
   ]
  },
  {
   "cell_type": "markdown",
   "metadata": {},
   "source": [
    "# Ejercicio 2: Trabajo con argumentos de palabra clave"
   ]
  },
  {
   "cell_type": "code",
   "execution_count": null,
   "metadata": {},
   "outputs": [],
   "source": [
    "# Función con un informe preciso de la misión. Considera hora de prelanzamiento, tiempo de vuelo, destino, tanque externo y tanque interno\n",
    "def GeneraReporte(horaPrelanzamiento,tiempoVuelo,destino,tanqueExterno,tanqueInterno):\n",
    "    return f\"\"\"El destino es a {destino}\n",
    "               El tiempo total de vuelo es {horaPrelanzamiento+tiempoVuelo} minutos    \n",
    "               Total de combustible es {tanqueExterno+tanqueInterno} gallones\n",
    "               \"\"\"\n",
    "print(GeneraReporte(14, 80, \"Moon\", 200000, 300000))"
   ]
  },
  {
   "cell_type": "code",
   "execution_count": 16,
   "metadata": {},
   "outputs": [
    {
     "name": "stdout",
     "output_type": "stream",
     "text": [
      "El destino es a Moon\n",
      "               El tiempo total de vuelo es 11 minutos    \n",
      "               Total de combustible es 500000 gallones\n",
      "               \n"
     ]
    }
   ],
   "source": [
    "# Escribe tu nueva función de reporte considerando lo anterior\n",
    "def GeneraReporte(destino,*minutes,**fuel_reservoirs):\n",
    "    return f\"\"\"El destino es a {destino}\n",
    "               El tiempo total de vuelo es {minutes[0]+minutes[1]} minutos    \n",
    "               Total de combustible es {fuel_reservoirs.get('externo')+fuel_reservoirs.get('interno')} gallones\n",
    "               \"\"\"\n",
    "print(GeneraReporte(\"Moon\",5,6,externo=200000, interno=300000))"
   ]
  }
 ],
 "metadata": {
  "interpreter": {
   "hash": "53f962e6d2c2beb506412be408d13b7c0d7876e523c4f070f79efbdb387e6992"
  },
  "kernelspec": {
   "display_name": "Python 3.10.2 64-bit",
   "language": "python",
   "name": "python3"
  },
  "language_info": {
   "codemirror_mode": {
    "name": "ipython",
    "version": 3
   },
   "file_extension": ".py",
   "mimetype": "text/x-python",
   "name": "python",
   "nbconvert_exporter": "python",
   "pygments_lexer": "ipython3",
   "version": "3.10.2"
  },
  "orig_nbformat": 4
 },
 "nbformat": 4,
 "nbformat_minor": 2
}
